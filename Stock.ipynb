{
  "nbformat": 4,
  "nbformat_minor": 0,
  "metadata": {
    "colab": {
      "provenance": [],
      "authorship_tag": "ABX9TyMSa5rqhfBg6iL9X49JwXXI",
      "include_colab_link": true
    },
    "kernelspec": {
      "name": "python3",
      "display_name": "Python 3"
    },
    "language_info": {
      "name": "python"
    }
  },
  "cells": [
    {
      "cell_type": "markdown",
      "metadata": {
        "id": "view-in-github",
        "colab_type": "text"
      },
      "source": [
        "<a href=\"https://colab.research.google.com/github/ferrysany/Assignment-1/blob/master/Stock.ipynb\" target=\"_parent\"><img src=\"https://colab.research.google.com/assets/colab-badge.svg\" alt=\"Open In Colab\"/></a>"
      ]
    },
    {
      "cell_type": "markdown",
      "source": [
        "Trend-Following Strategy\n",
        "\n",
        "   This strategy aims to profit by following the direction of a prevailing trend. You buy when the price is trending upward and sell when it's trending downward.\n",
        "    Indicators Used:\n",
        "        Moving Averages (MA)\n",
        "        MACD (Moving Average Convergence Divergence)\n",
        "        RSI (Relative Strength Index)\n",
        "        \n",
        "   Buying when the 50-day moving average crosses above the 200-day moving average (Golden Cross)."
      ],
      "metadata": {
        "id": "8HIDrOi3iqzl"
      }
    },
    {
      "cell_type": "code",
      "execution_count": 7,
      "metadata": {
        "colab": {
          "base_uri": "https://localhost:8080/"
        },
        "id": "DCM3WuYHNqfz",
        "outputId": "40417c1b-baed-40e8-8c39-6c3cb80ddaff"
      },
      "outputs": [
        {
          "output_type": "stream",
          "name": "stderr",
          "text": [
            "[*********************100%***********************]  1 of 1 completed\n",
            "[*********************100%***********************]  1 of 1 completed\n"
          ]
        }
      ],
      "source": [
        "import yfinance as yf\n",
        "import sqlite3\n",
        "\n",
        "goog_data = yf.download('Goog', start = '2015-01-01', end='2024-12-29')\n",
        "pltr_data = yf.download('Pltr', start = '2015-01-01', end='2024-12-29')\n",
        "\n",
        "conn = sqlite3.connect('stock_data.db')\n",
        "\n",
        "goog_data.to_sql('goog', conn, if_exists='replace', index=True)\n",
        "pltr_data.to_sql('pltr', conn, if_exists='replace', index=True)\n",
        "\n",
        "conn.close()\n",
        "\n",
        "print(goog_data.head())\n",
        "print(pltr_data.head())"
      ]
    }
  ]
}