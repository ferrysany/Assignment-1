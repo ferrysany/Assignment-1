{
  "nbformat": 4,
  "nbformat_minor": 0,
  "metadata": {
    "colab": {
      "name": "project.ipynb",
      "provenance": [],
      "collapsed_sections": [],
      "authorship_tag": "ABX9TyOABjTi7pJQDch1XYUf2W3+",
      "include_colab_link": true
    },
    "kernelspec": {
      "name": "python3",
      "display_name": "Python 3"
    },
    "language_info": {
      "name": "python"
    }
  },
  "cells": [
    {
      "cell_type": "markdown",
      "metadata": {
        "id": "view-in-github",
        "colab_type": "text"
      },
      "source": [
        "<a href=\"https://colab.research.google.com/github/ferrysany/Assignment-1/blob/master/project.ipynb\" target=\"_parent\"><img src=\"https://colab.research.google.com/assets/colab-badge.svg\" alt=\"Open In Colab\"/></a>"
      ]
    },
    {
      "cell_type": "markdown",
      "metadata": {
        "id": "0sN6Ju1vdzhW"
      },
      "source": [
        "CUNY 604 2021 Summer Project - Chun San Yip"
      ]
    },
    {
      "cell_type": "markdown",
      "metadata": {
        "id": "HH2eqWsn28In"
      },
      "source": [
        "Procurement Process Simulation"
      ]
    },
    {
      "cell_type": "code",
      "metadata": {
        "id": "N6V31siPMImd"
      },
      "source": [
        "# download modsim.py if necessary\n",
        "\n",
        "try:\n",
        "    import pint\n",
        "except ImportError:\n",
        "    !pip install pint\n",
        "    import pint\n",
        "    \n",
        "try:\n",
        "    from modsim import *\n",
        "except ImportError:\n",
        "    !pip install modsimpy\n",
        "    from modsim import *"
      ],
      "execution_count": 133,
      "outputs": []
    },
    {
      "cell_type": "code",
      "metadata": {
        "id": "NAA5cJiTMP84"
      },
      "source": [
        "# import functions from modsim\n",
        "\n",
        "from modsim import *\n",
        "import matplotlib.pyplot as plt"
      ],
      "execution_count": 3,
      "outputs": []
    },
    {
      "cell_type": "markdown",
      "metadata": {
        "id": "44DB7KJs_K3E"
      },
      "source": [
        "This project is build on the top of the customer check out example of Allen Downey \n",
        "\n",
        "The team has 5 buyers\n",
        "\n",
        "The average number of Purchase Order per week is about 60.\n",
        "\n",
        "The estimated process time for each Purchase Orders is 6 to 8 hours."
      ]
    },
    {
      "cell_type": "code",
      "metadata": {
        "id": "dv0MNwpGhFDc"
      },
      "source": [
        "\"\"\" This function is to generate a system\n",
        "lam is the incoming rate\n",
        "mu is the process rate\n",
        "duration is the simulation time (5 days or 2400 minutes)\n",
        "\"\"\"\n",
        "\n",
        "def PO_system(lam, mu, n):\n",
        "      \n",
        "  return System(lam=lam, mu=mu, n=n, duration=2400)"
      ],
      "execution_count": 78,
      "outputs": []
    },
    {
      "cell_type": "code",
      "metadata": {
        "colab": {
          "base_uri": "https://localhost:8080/"
        },
        "id": "cSZK2hpMjbCe",
        "outputId": "4a38a336-a1f2-418c-b3c1-acf27e032098"
      },
      "source": [
        "\"\"\" As day is the unit of the simulation\n",
        "As there are 60 Purchase Order per 5 days or there are 12 Purchase Order per day\n",
        "or 1 Purchase Order every 0.667 hours\n",
        "The service time is about 6 hours \"\"\"\n",
        "\n",
        "interarrival_time = 40\n",
        "service_time = 360\n",
        "\n",
        "lam = 1/interarrival_time\n",
        "mu = 1/service_time\n",
        "n=5\n",
        "\n",
        "system = PO_system(lam=lam, mu=mu, n=n)\n",
        "system"
      ],
      "execution_count": 79,
      "outputs": [
        {
          "output_type": "execute_result",
          "data": {
            "text/plain": [
              "System(duration=2400, lam=0.025, mu=0.002777777777777778, n=5)"
            ]
          },
          "metadata": {
            "tags": []
          },
          "execution_count": 79
        }
      ]
    },
    {
      "cell_type": "code",
      "metadata": {
        "id": "dkBK0dNjrp2F"
      },
      "source": [
        "\"\"\" \n",
        "x - the total number of Purchase Orders in the queue, including the Purchase \n",
        "    Orders being processed\n",
        "t - the number of minutes that have elapsed in the simulation\n",
        "Only 1 queue for this update function\n",
        "n - number of buyer\n",
        "If all buyers are busy, check whether the last is complete\n",
        "\"\"\"\n",
        "\n",
        "def update_func_one(x, t, system):\n",
        "\n",
        "  for i in reversed(range(system.n)):   \n",
        "          \n",
        "    if x > i-1:\n",
        "      if flip(system.mu):\n",
        "        x -= 1\n",
        "  \n",
        "  if flip(system.lam):\n",
        "    x += 1\n",
        "\n",
        "  return x"
      ],
      "execution_count": 129,
      "outputs": []
    },
    {
      "cell_type": "code",
      "metadata": {
        "id": "CO7DEnk-vMud"
      },
      "source": [
        "def run_simulation(system, update_func_one):\n",
        "    \"\"\"Simulate a queueing system.\n",
        "    \n",
        "    system: System object\n",
        "    update_func_one: function object\n",
        "    \"\"\"\n",
        "    x = 0\n",
        "    results = TimeSeries()\n",
        "    results[0] = x\n",
        "    \n",
        "    for t in linrange(0, system.duration):\n",
        "        x = update_func_one(x, t, system)\n",
        "        results[t+1] = x\n",
        "\n",
        "    return results\n"
      ],
      "execution_count": 130,
      "outputs": []
    },
    {
      "cell_type": "code",
      "metadata": {
        "id": "4MKV4WqE3EGa"
      },
      "source": [
        "def multiple_buyer(n): \n",
        "\n",
        "  for i in range(n):\n",
        "    system = PO_system(lam=lam, mu=mu, n=(i+1))\n",
        "    results = run_simulation(system, update_func_one)\n",
        "    results.plot(label=str(i+1)+' Buyers')\n",
        "\n",
        "  decorate(title='Purchase Order Processing',\n",
        "            xlabel='Time (mins)',\n",
        "            ylabel='Number of Purchase Order in the Queue')\n",
        "\n",
        "  return"
      ],
      "execution_count": 141,
      "outputs": []
    },
    {
      "cell_type": "code",
      "metadata": {
        "colab": {
          "base_uri": "https://localhost:8080/",
          "height": 297
        },
        "id": "PCaIw9GPEf5_",
        "outputId": "752f1eaa-8581-401a-9b92-eb1a38bb6f05"
      },
      "source": [
        "multiple_buyer(5)"
      ],
      "execution_count": 143,
      "outputs": [
        {
          "output_type": "display_data",
          "data": {
            "image/png": "[encoded data removed]",
            "text/plain": [
              "<Figure size 432x288 with 1 Axes>"
            ]
          },
          "metadata": {
            "tags": [],
            "needs_background": "light"
          }
        }
      ]
    },
    {
      "cell_type": "markdown",
      "metadata": {
        "id": "QmHDAt5vFVX-"
      },
      "source": [
        "The larger number of buyer, the lower the number of Purchase Order in the queue.\n",
        "It makes sense as more buyers work on the Purchase Order."
      ]
    },
    {
      "cell_type": "markdown",
      "metadata": {
        "id": "fF5scA6jF80P"
      },
      "source": [
        "After the simulation, I also want to make use of Little's Law to find out the time Purchase Order is pending in the queue, W\n",
        "We can compute L, which is the average number of Purchse Order in the system,\n",
        "L=λW\n",
        "\n",
        "Where λ is the arrival rate. Here's a function that computes them.\n"
      ]
    }
  ]
}