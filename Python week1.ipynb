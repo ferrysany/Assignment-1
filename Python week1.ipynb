{
  "nbformat": 4,
  "nbformat_minor": 0,
  "metadata": {
    "colab": {
      "name": "Untitled1.ipynb",
      "provenance": [],
      "include_colab_link": true
    },
    "kernelspec": {
      "name": "python3",
      "display_name": "Python 3"
    }
  },
  "cells": [
    {
      "cell_type": "markdown",
      "metadata": {
        "id": "view-in-github",
        "colab_type": "text"
      },
      "source": [
        "<a href=\"https://colab.research.google.com/github/ferrysany/Assignment-1/blob/master/Python%20week1.ipynb\" target=\"_parent\"><img src=\"https://colab.research.google.com/assets/colab-badge.svg\" alt=\"Open In Colab\"/></a>"
      ]
    },
    {
      "cell_type": "markdown",
      "metadata": {
        "id": "cM31mBfQUIVt",
        "colab_type": "text"
      },
      "source": [
        "Even-Odd Vending Machine"
      ]
    },
    {
      "cell_type": "code",
      "metadata": {
        "id": "I43T8l-hUOlS",
        "colab_type": "code",
        "colab": {
          "base_uri": "https://localhost:8080/",
          "height": 54
        },
        "outputId": "f025943a-26e7-4612-b1c4-dcf734de15be"
      },
      "source": [
        "def check(a):\n",
        "  if a % 2.0 == 0:\n",
        "    print('{0} is an even number'.format(a))\n",
        "  else:\n",
        "    print('{0} is an odd number'.format(a))\n",
        "\n",
        "if __name__ == '__main__':    \n",
        "  a = float(input('Enter a number: '))    \n",
        "  check(a)       "
      ],
      "execution_count": 5,
      "outputs": [
        {
          "output_type": "stream",
          "text": [
            "Enter a number: 10\n",
            "10.0 is an even number\n"
          ],
          "name": "stdout"
        }
      ]
    }
  ]
}